{
 "cells": [
  {
   "cell_type": "code",
   "execution_count": 1,
   "id": "caeb20e9",
   "metadata": {},
   "outputs": [],
   "source": [
    "import pandas as pd\n",
    "import numpy as np\n",
    "import matplotlib.pyplot as plt\n",
    "from sklearn.linear_model import LinearRegression\n",
    "from sklearn.preprocessing import PolynomialFeatures"
   ]
  },
  {
   "cell_type": "code",
   "execution_count": 2,
   "id": "c2268c59",
   "metadata": {},
   "outputs": [],
   "source": [
    "df=pd.read_csv(\"polynomial.csv\",sep = \";\")"
   ]
  },
  {
   "cell_type": "code",
   "execution_count": 3,
   "id": "8e27c084",
   "metadata": {},
   "outputs": [
    {
     "data": {
      "text/html": [
       "<div>\n",
       "<style scoped>\n",
       "    .dataframe tbody tr th:only-of-type {\n",
       "        vertical-align: middle;\n",
       "    }\n",
       "\n",
       "    .dataframe tbody tr th {\n",
       "        vertical-align: top;\n",
       "    }\n",
       "\n",
       "    .dataframe thead th {\n",
       "        text-align: right;\n",
       "    }\n",
       "</style>\n",
       "<table border=\"1\" class=\"dataframe\">\n",
       "  <thead>\n",
       "    <tr style=\"text-align: right;\">\n",
       "      <th></th>\n",
       "      <th>deneyim</th>\n",
       "      <th>maas</th>\n",
       "    </tr>\n",
       "  </thead>\n",
       "  <tbody>\n",
       "    <tr>\n",
       "      <th>0</th>\n",
       "      <td>1</td>\n",
       "      <td>4500</td>\n",
       "    </tr>\n",
       "    <tr>\n",
       "      <th>1</th>\n",
       "      <td>2</td>\n",
       "      <td>5000</td>\n",
       "    </tr>\n",
       "    <tr>\n",
       "      <th>2</th>\n",
       "      <td>3</td>\n",
       "      <td>6000</td>\n",
       "    </tr>\n",
       "    <tr>\n",
       "      <th>3</th>\n",
       "      <td>4</td>\n",
       "      <td>8000</td>\n",
       "    </tr>\n",
       "    <tr>\n",
       "      <th>4</th>\n",
       "      <td>5</td>\n",
       "      <td>11000</td>\n",
       "    </tr>\n",
       "  </tbody>\n",
       "</table>\n",
       "</div>"
      ],
      "text/plain": [
       "   deneyim   maas\n",
       "0        1   4500\n",
       "1        2   5000\n",
       "2        3   6000\n",
       "3        4   8000\n",
       "4        5  11000"
      ]
     },
     "execution_count": 3,
     "metadata": {},
     "output_type": "execute_result"
    }
   ],
   "source": [
    "df.head()"
   ]
  },
  {
   "cell_type": "code",
   "execution_count": 4,
   "id": "46da2203",
   "metadata": {},
   "outputs": [
    {
     "name": "stdout",
     "output_type": "stream",
     "text": [
      "<class 'pandas.core.frame.DataFrame'>\n",
      "RangeIndex: 10 entries, 0 to 9\n",
      "Data columns (total 2 columns):\n",
      " #   Column   Non-Null Count  Dtype\n",
      "---  ------   --------------  -----\n",
      " 0   deneyim  10 non-null     int64\n",
      " 1   maas     10 non-null     int64\n",
      "dtypes: int64(2)\n",
      "memory usage: 288.0 bytes\n"
     ]
    }
   ],
   "source": [
    "df.info()"
   ]
  },
  {
   "cell_type": "code",
   "execution_count": 5,
   "id": "de2fcf08",
   "metadata": {},
   "outputs": [
    {
     "data": {
      "text/html": [
       "<div>\n",
       "<style scoped>\n",
       "    .dataframe tbody tr th:only-of-type {\n",
       "        vertical-align: middle;\n",
       "    }\n",
       "\n",
       "    .dataframe tbody tr th {\n",
       "        vertical-align: top;\n",
       "    }\n",
       "\n",
       "    .dataframe thead th {\n",
       "        text-align: right;\n",
       "    }\n",
       "</style>\n",
       "<table border=\"1\" class=\"dataframe\">\n",
       "  <thead>\n",
       "    <tr style=\"text-align: right;\">\n",
       "      <th></th>\n",
       "      <th>count</th>\n",
       "      <th>mean</th>\n",
       "      <th>std</th>\n",
       "      <th>min</th>\n",
       "      <th>25%</th>\n",
       "      <th>50%</th>\n",
       "      <th>75%</th>\n",
       "      <th>max</th>\n",
       "    </tr>\n",
       "  </thead>\n",
       "  <tbody>\n",
       "    <tr>\n",
       "      <th>deneyim</th>\n",
       "      <td>10.0</td>\n",
       "      <td>5.5</td>\n",
       "      <td>3.027650</td>\n",
       "      <td>1.0</td>\n",
       "      <td>3.25</td>\n",
       "      <td>5.5</td>\n",
       "      <td>7.75</td>\n",
       "      <td>10.0</td>\n",
       "    </tr>\n",
       "    <tr>\n",
       "      <th>maas</th>\n",
       "      <td>10.0</td>\n",
       "      <td>24950.0</td>\n",
       "      <td>29937.388367</td>\n",
       "      <td>4500.0</td>\n",
       "      <td>6500.00</td>\n",
       "      <td>13000.0</td>\n",
       "      <td>27500.00</td>\n",
       "      <td>100000.0</td>\n",
       "    </tr>\n",
       "  </tbody>\n",
       "</table>\n",
       "</div>"
      ],
      "text/plain": [
       "         count     mean           std     min      25%      50%       75%  \\\n",
       "deneyim   10.0      5.5      3.027650     1.0     3.25      5.5      7.75   \n",
       "maas      10.0  24950.0  29937.388367  4500.0  6500.00  13000.0  27500.00   \n",
       "\n",
       "              max  \n",
       "deneyim      10.0  \n",
       "maas     100000.0  "
      ]
     },
     "execution_count": 5,
     "metadata": {},
     "output_type": "execute_result"
    }
   ],
   "source": [
    "df.describe().T"
   ]
  },
  {
   "cell_type": "code",
   "execution_count": 6,
   "id": "b779572a",
   "metadata": {},
   "outputs": [
    {
     "data": {
      "text/html": [
       "<div>\n",
       "<style scoped>\n",
       "    .dataframe tbody tr th:only-of-type {\n",
       "        vertical-align: middle;\n",
       "    }\n",
       "\n",
       "    .dataframe tbody tr th {\n",
       "        vertical-align: top;\n",
       "    }\n",
       "\n",
       "    .dataframe thead th {\n",
       "        text-align: right;\n",
       "    }\n",
       "</style>\n",
       "<table border=\"1\" class=\"dataframe\">\n",
       "  <thead>\n",
       "    <tr style=\"text-align: right;\">\n",
       "      <th></th>\n",
       "      <th>deneyim</th>\n",
       "      <th>maas</th>\n",
       "    </tr>\n",
       "  </thead>\n",
       "  <tbody>\n",
       "    <tr>\n",
       "      <th>5</th>\n",
       "      <td>6</td>\n",
       "      <td>15000</td>\n",
       "    </tr>\n",
       "    <tr>\n",
       "      <th>6</th>\n",
       "      <td>7</td>\n",
       "      <td>20000</td>\n",
       "    </tr>\n",
       "    <tr>\n",
       "      <th>7</th>\n",
       "      <td>8</td>\n",
       "      <td>30000</td>\n",
       "    </tr>\n",
       "    <tr>\n",
       "      <th>8</th>\n",
       "      <td>9</td>\n",
       "      <td>50000</td>\n",
       "    </tr>\n",
       "    <tr>\n",
       "      <th>9</th>\n",
       "      <td>10</td>\n",
       "      <td>100000</td>\n",
       "    </tr>\n",
       "  </tbody>\n",
       "</table>\n",
       "</div>"
      ],
      "text/plain": [
       "   deneyim    maas\n",
       "5        6   15000\n",
       "6        7   20000\n",
       "7        8   30000\n",
       "8        9   50000\n",
       "9       10  100000"
      ]
     },
     "execution_count": 6,
     "metadata": {},
     "output_type": "execute_result"
    }
   ],
   "source": [
    "df.tail()"
   ]
  },
  {
   "cell_type": "markdown",
   "id": "b44830c2",
   "metadata": {},
   "source": [
    "# EK BİLGİ(ADDITIONAL INFO)"
   ]
  },
  {
   "cell_type": "code",
   "execution_count": 7,
   "id": "7b8211f1",
   "metadata": {},
   "outputs": [],
   "source": [
    "a=df[\"deneyim\"]"
   ]
  },
  {
   "cell_type": "code",
   "execution_count": 8,
   "id": "616c2a02",
   "metadata": {},
   "outputs": [
    {
     "data": {
      "text/plain": [
       "pandas.core.series.Series"
      ]
     },
     "execution_count": 8,
     "metadata": {},
     "output_type": "execute_result"
    }
   ],
   "source": [
    "type(a)"
   ]
  },
  {
   "cell_type": "code",
   "execution_count": 9,
   "id": "d757b2bb",
   "metadata": {},
   "outputs": [],
   "source": [
    "b=df[[\"maas\"]]"
   ]
  },
  {
   "cell_type": "code",
   "execution_count": 10,
   "id": "c1d91e96",
   "metadata": {},
   "outputs": [
    {
     "data": {
      "text/plain": [
       "pandas.core.frame.DataFrame"
      ]
     },
     "execution_count": 10,
     "metadata": {},
     "output_type": "execute_result"
    }
   ],
   "source": [
    "type(b)"
   ]
  },
  {
   "cell_type": "code",
   "execution_count": 11,
   "id": "8759f451",
   "metadata": {},
   "outputs": [],
   "source": [
    "c=df.deneyim"
   ]
  },
  {
   "cell_type": "code",
   "execution_count": 12,
   "id": "17421f19",
   "metadata": {},
   "outputs": [
    {
     "data": {
      "text/plain": [
       "pandas.core.series.Series"
      ]
     },
     "execution_count": 12,
     "metadata": {},
     "output_type": "execute_result"
    }
   ],
   "source": [
    "type(c)"
   ]
  },
  {
   "cell_type": "markdown",
   "id": "0129bbff",
   "metadata": {},
   "source": [
    "## HEDEF DEĞİŞKENİ VE DEĞİŞKENLERİ BELİRLEYELİM.\n",
    "## (LET'S DETERMINE THE TARGET VARIABLE AND THE VARIABLES.)"
   ]
  },
  {
   "cell_type": "code",
   "execution_count": 13,
   "id": "aa8cec60",
   "metadata": {},
   "outputs": [],
   "source": [
    "x=df[[\"deneyim\"]]"
   ]
  },
  {
   "cell_type": "code",
   "execution_count": 14,
   "id": "b6d757b5",
   "metadata": {},
   "outputs": [],
   "source": [
    "y=df[[\"maas\"]]"
   ]
  },
  {
   "cell_type": "markdown",
   "id": "1c92d66d",
   "metadata": {},
   "source": [
    "# GÖRSELLEŞTİRME(VISUALIZATION)"
   ]
  },
  {
   "cell_type": "code",
   "execution_count": 15,
   "id": "43fc605a",
   "metadata": {},
   "outputs": [
    {
     "data": {
      "image/png": "[encoded data removed]",
      "text/plain": [
       "<Figure size 432x288 with 1 Axes>"
      ]
     },
     "metadata": {
      "needs_background": "light"
     },
     "output_type": "display_data"
    }
   ],
   "source": [
    "plt.scatter(x,y)\n",
    "plt.xlabel(\"deneyim_yili\")\n",
    "plt.ylabel(\"maas\")\n",
    "plt.savefig(\"1.png\",dpi=300)\n",
    "plt.show()"
   ]
  },
  {
   "cell_type": "markdown",
   "id": "6c19670b",
   "metadata": {},
   "source": [
    "# MODEL KURMA(MODEL SETUP)"
   ]
  },
  {
   "cell_type": "code",
   "execution_count": 16,
   "id": "c012309e",
   "metadata": {},
   "outputs": [
    {
     "data": {
      "image/png": "[encoded data removed]",
      "text/plain": [
       "<Figure size 432x288 with 1 Axes>"
      ]
     },
     "metadata": {
      "needs_background": "light"
     },
     "output_type": "display_data"
    }
   ],
   "source": [
    "model=LinearRegression()\n",
    "model.fit(x,y)\n",
    "plt.scatter(x,y)\n",
    "plt.xlabel(\"deneyim_yili\")\n",
    "plt.ylabel(\"maas\")\n",
    "\n",
    "x_ekseni = x\n",
    "y_ekseni = model.predict(x)\n",
    "\n",
    "plt.plot(x_ekseni, y_ekseni,color= \"green\", label = \"linear regression\")\n",
    "plt.legend()\n",
    "plt.show()"
   ]
  },
  {
   "cell_type": "markdown",
   "id": "a847e8dd",
   "metadata": {},
   "source": [
    "#### Tahmin için çok kötü bir doğru, demek ki neymiş: Bu veri seti için lineer regresyon uygulamak doğru değilmiş. Unutmayın veri setinize göre model seçeceksiniz arkadaşlar ! Öncelikle veri setinize çok iyi hakim olmalı ve bilmelisiniz "
   ]
  },
  {
   "cell_type": "markdown",
   "id": "c126c9b5",
   "metadata": {},
   "source": [
    "#### (Very bad correct for prediction, so what is it: It was not correct to apply linear regression for this dataset. Remember, you will choose a model according to your data set, friends! First of all, you should have a very good command of your dataset and know)"
   ]
  },
  {
   "cell_type": "markdown",
   "id": "01d75cb1",
   "metadata": {},
   "source": [
    "## UYGUN MODELİ SEÇME(SELECTING THE SUITABLE MODEL)"
   ]
  },
  {
   "cell_type": "code",
   "execution_count": 17,
   "id": "d8222481",
   "metadata": {},
   "outputs": [],
   "source": [
    "model_pol=PolynomialFeatures(degree=5)\n",
    "x_pol= model_pol.fit_transform(x)"
   ]
  },
  {
   "cell_type": "code",
   "execution_count": 18,
   "id": "fe174ed0",
   "metadata": {},
   "outputs": [
    {
     "data": {
      "text/plain": [
       "LinearRegression()"
      ]
     },
     "execution_count": 18,
     "metadata": {},
     "output_type": "execute_result"
    }
   ],
   "source": [
    "model=LinearRegression()\n",
    "model.fit(x_pol,y)"
   ]
  },
  {
   "cell_type": "markdown",
   "id": "74eaf956",
   "metadata": {},
   "source": [
    "# FİNAL MODELİ GÖRSELLEŞTİME\n",
    "# (VISUALIZING THE FINAL MODEL)"
   ]
  },
  {
   "cell_type": "code",
   "execution_count": 19,
   "id": "b2e75989",
   "metadata": {},
   "outputs": [
    {
     "data": {
      "image/png": "[encoded data removed]",
      "text/plain": [
       "<Figure size 432x288 with 1 Axes>"
      ]
     },
     "metadata": {
      "needs_background": "light"
     },
     "output_type": "display_data"
    }
   ],
   "source": [
    "y_head = model.predict(x_pol)\n",
    "plt.plot(x,y_head,color= \"red\",label = \"polynomial regression\")\n",
    "plt.legend()\n",
    "plt.scatter(x,y)   \n",
    "plt.show()"
   ]
  },
  {
   "cell_type": "code",
   "execution_count": 20,
   "id": "b228acc7",
   "metadata": {},
   "outputs": [
    {
     "data": {
      "text/plain": [
       "array([[9356.65246209]])"
      ]
     },
     "execution_count": 20,
     "metadata": {},
     "output_type": "execute_result"
    }
   ],
   "source": [
    "x_pol1=model_pol.fit_transform([[4.5]])\n",
    "model.predict(x_pol1)"
   ]
  }
 ],
 "metadata": {
  "kernelspec": {
   "display_name": "Python 3",
   "language": "python",
   "name": "python3"
  },
  "language_info": {
   "codemirror_mode": {
    "name": "ipython",
    "version": 3
   },
   "file_extension": ".py",
   "mimetype": "text/x-python",
   "name": "python",
   "nbconvert_exporter": "python",
   "pygments_lexer": "ipython3",
   "version": "3.8.8"
  }
 },
 "nbformat": 4,
 "nbformat_minor": 5
}
